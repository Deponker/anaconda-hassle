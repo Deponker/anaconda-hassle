{
 "cells": [
  {
   "cell_type": "code",
   "execution_count": 1,
   "id": "bd3040bb",
   "metadata": {},
   "outputs": [
    {
     "data": {
      "text/plain": [
       "\"\\nconda env list => list of available env\\n\\nconda create --name myenv => creates a new env\\n                             if a directory already exists that matches the env name,\\n                             conda asks to use this directory for the new env. In that\\n                             case, it's better to go to the directory and delete the folder\\n                             that matches the env name / use unique identifer for directory\\n\\nconda list => list available packages installed; should be empty in this case.\\n\\nconda list cudatoolkit => checks if any CUDA version already exists.\\n\\nconda list cudnn => checks if any cudnn already exists; should be none\\n\\nconda env remove -n ENVNAME => deletes an env\\n\\nconda remove PACKAGENAME => removes any package; useful when some packages still exist in \\n                            the env after uninstalling all known packages.\\n                            \\nconda install jupyter => It will install jupyter notebook with latest version of python;\\n                         unfortunatly different version of python has compitability issues \\n                         with tensorflow, cuda cudnn etc.\\n                         We will downgrade the latest python version installed with jupyter \\n                         notebook later.\\n                         \\njupyteer notebook => luches jupyter notebook, create a python3(ipykernel) file and check python \\n                     version (!python --version)\\n                     if it outputs latest python version, then jupyter notebook installed\\n                     successfully.\\n                     Note: [Kernel died, kernel re starts automatically, 500: internal server\\n                     error] these errors can happen at this stage.\\n                     If that the case, then remove all packages from anaconda env and reinstall \\n                     jupyter notebook.\\n                     \\nconda install cudatoolkit=10.1 => Installed CUDA 10.1._; Underscored part is automatically \\n                                  inferred by the anaconda. CUDA is needed for running models in \\n                                  gpu. Different tensorflow versions need different cuda versions.\\n                                  Here, CUDA 10.1 is compitable with tensorflow-gpu=2.3.0\\n                                  \\nconda install cudnn=7.6 => Instals cuDNN 7.6._; Underscored part is inferred automatically.\\n                           cuDNN is necessary for gpu support. cuDNN=7.6 is compitable with\\n                           tensorflow-gpu=2.3.0\\n                           \\nconda install python=3.8 => Installs python 3.8._; Underscored part is infered automatically.\\n                            At this stage, we basically doengraded the python version from latest\\n                            to 3.8; It's necessary hence tensorflow-gpu=2.3.0 is compitable with\\n                            python 3.5 to 3.8\\n                            \\nconda install tensorflow-gpu=2.3.0 => Installs tensorflow gpu current env. tensorflow-gpu=2.3.0\\n                                      is compitable with CUDA 10.1, cuDNN 7.6 and python 3.8\\n                                      \\njupyter notebook => Launches jupyter notebook; create new python3(ipykernel) file. It may show\\n                    500: internal server error. To solve this....\\n                    \\npip install --upgrade nbconvert => Run this command on Anaconda cmd. After successful completion..\\n\\njupyter notebook => launches jupyter notebook; create new python3(ipykernel) file.\\n                    The 500: internal server error should be gone.\\n\""
      ]
     },
     "execution_count": 1,
     "metadata": {},
     "output_type": "execute_result"
    }
   ],
   "source": [
    "######### Created on 12th April 2023 #######\n",
    "\n",
    "'''\n",
    "conda env list => list of available env\n",
    "\n",
    "conda create --name myenv => creates a new env\n",
    "                             if a directory already exists that matches the env name,\n",
    "                             conda asks to use this directory for the new env. In that\n",
    "                             case, it's better to go to the directory and delete the folder\n",
    "                             that matches the env name / use unique identifer for directory\n",
    "\n",
    "conda list => list available packages installed; should be empty in this case.\n",
    "\n",
    "conda list cudatoolkit => checks if any CUDA version already exists.\n",
    "\n",
    "conda list cudnn => checks if any cudnn already exists; should be none\n",
    "\n",
    "conda env remove -n ENVNAME => deletes an env\n",
    "\n",
    "conda remove PACKAGENAME => removes any package; useful when some packages still exist in \n",
    "                            the env after uninstalling all known packages.\n",
    "                            \n",
    "conda install jupyter => It will install jupyter notebook with latest version of python;\n",
    "                         unfortunatly different version of python has compitability issues \n",
    "                         with tensorflow, cuda cudnn etc.\n",
    "                         We will downgrade the latest python version installed with jupyter \n",
    "                         notebook later.\n",
    "                         \n",
    "jupyteer notebook => luches jupyter notebook, create a python3(ipykernel) file and check python \n",
    "                     version (!python --version)\n",
    "                     if it outputs latest python version, then jupyter notebook installed\n",
    "                     successfully.\n",
    "                     Note: [Kernel died, kernel re starts automatically, 500: internal server\n",
    "                     error] these errors can happen at this stage.\n",
    "                     If that the case, then remove all packages from anaconda env and reinstall \n",
    "                     jupyter notebook.\n",
    "                     \n",
    "conda install cudatoolkit=10.1 => Installed CUDA 10.1._; Underscored part is automatically \n",
    "                                  inferred by the anaconda. CUDA is needed for running models in \n",
    "                                  gpu. Different tensorflow versions need different cuda versions.\n",
    "                                  Here, CUDA 10.1 is compitable with tensorflow-gpu=2.3.0\n",
    "                                  \n",
    "conda install cudnn=7.6 => Instals cuDNN 7.6._; Underscored part is inferred automatically.\n",
    "                           cuDNN is necessary for gpu support. cuDNN=7.6 is compitable with\n",
    "                           tensorflow-gpu=2.3.0\n",
    "                           \n",
    "conda install python=3.8 => Installs python 3.8._; Underscored part is infered automatically.\n",
    "                            At this stage, we basically doengraded the python version from latest\n",
    "                            to 3.8; It's necessary hence tensorflow-gpu=2.3.0 is compitable with\n",
    "                            python 3.5 to 3.8\n",
    "                            \n",
    "conda install tensorflow-gpu=2.3.0 => Installs tensorflow gpu current env. tensorflow-gpu=2.3.0\n",
    "                                      is compitable with CUDA 10.1, cuDNN 7.6 and python 3.8\n",
    "                                      \n",
    "jupyter notebook => Launches jupyter notebook; create new python3(ipykernel) file. It may show\n",
    "                    500: internal server error. To solve this....\n",
    "                    \n",
    "pip install --upgrade nbconvert => Run this command on Anaconda cmd. After successful completion..\n",
    "\n",
    "jupyter notebook => launches jupyter notebook; create new python3(ipykernel) file.\n",
    "                    The 500: internal server error should be gone.\n",
    "'''"
   ]
  },
  {
   "cell_type": "code",
   "execution_count": 2,
   "id": "e6d76b72",
   "metadata": {},
   "outputs": [
    {
     "name": "stdout",
     "output_type": "stream",
     "text": [
      "['/device:GPU:0']\n"
     ]
    }
   ],
   "source": [
    "import tensorflow as tf\n",
    "from tensorflow.python.client import device_lib\n",
    "def get_available_gpus():\n",
    "    local_device_protos = device_lib.list_local_devices()\n",
    "    return [x.name for x in local_device_protos if x.device_type == 'GPU']\n",
    "\n",
    "print(get_available_gpus())"
   ]
  },
  {
   "cell_type": "code",
   "execution_count": 3,
   "id": "dc71edfd",
   "metadata": {},
   "outputs": [],
   "source": [
    "import tensorflow as tf \n",
    "physical_devices = tf.config.list_physical_devices('GPU') \n",
    "tf.config.experimental.set_memory_growth(physical_devices[0], True)"
   ]
  },
  {
   "cell_type": "code",
   "execution_count": 4,
   "id": "0aec74e2",
   "metadata": {},
   "outputs": [
    {
     "name": "stdout",
     "output_type": "stream",
     "text": [
      "Python 3.8.16\n"
     ]
    }
   ],
   "source": [
    "!python --version"
   ]
  },
  {
   "cell_type": "code",
   "execution_count": 5,
   "id": "15fed47f",
   "metadata": {},
   "outputs": [
    {
     "name": "stdout",
     "output_type": "stream",
     "text": [
      "2.3.0\n"
     ]
    }
   ],
   "source": [
    "import tensorflow as tf\n",
    "print(tf.__version__)"
   ]
  },
  {
   "cell_type": "code",
   "execution_count": 6,
   "id": "38c1e409",
   "metadata": {},
   "outputs": [
    {
     "name": "stdout",
     "output_type": "stream",
     "text": [
      "2.4.0\n"
     ]
    }
   ],
   "source": [
    "import tensorflow.keras\n",
    "print(tensorflow.keras.__version__)"
   ]
  }
 ],
 "metadata": {
  "kernelspec": {
   "display_name": "Python 3 (ipykernel)",
   "language": "python",
   "name": "python3"
  },
  "language_info": {
   "codemirror_mode": {
    "name": "ipython",
    "version": 3
   },
   "file_extension": ".py",
   "mimetype": "text/x-python",
   "name": "python",
   "nbconvert_exporter": "python",
   "pygments_lexer": "ipython3",
   "version": "3.8.16"
  }
 },
 "nbformat": 4,
 "nbformat_minor": 5
}
